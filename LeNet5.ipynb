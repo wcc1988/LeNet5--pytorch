{
 "cells": [
  {
   "cell_type": "markdown",
   "metadata": {},
   "source": [
    "# LeNet5模型"
   ]
  },
  {
   "cell_type": "code",
   "execution_count": 9,
   "metadata": {},
   "outputs": [],
   "source": [
    "import torch\n",
    "import torch.nn as nn\n",
    "from torch.autograd import Variable\n",
    "import torch.utils.data as Data\n",
    "import torchvision\n",
    "from torch import optim\n",
    "from torchvision import datasets, transforms"
   ]
  },
  {
   "cell_type": "markdown",
   "metadata": {},
   "source": [
    "定义超参数"
   ]
  },
  {
   "cell_type": "code",
   "execution_count": 10,
   "metadata": {},
   "outputs": [],
   "source": [
    "#parameters\n",
    "epochs = 2\n",
    "batch_size = 100\n",
    "lr = 0.01#learn rate "
   ]
  },
  {
   "cell_type": "markdown",
   "metadata": {},
   "source": [
    "加载数据集"
   ]
  },
  {
   "cell_type": "code",
   "execution_count": 11,
   "metadata": {},
   "outputs": [
    {
     "name": "stderr",
     "output_type": "stream",
     "text": [
      "D:\\Anaconda\\lib\\site-packages\\ipykernel_launcher.py:12: UserWarning: volatile was removed and now has no effect. Use `with torch.no_grad():` instead.\n",
      "  if sys.path[0] == '':\n"
     ]
    },
    {
     "name": "stdout",
     "output_type": "stream",
     "text": [
      "torch.Size([60000, 28, 28])\n",
      "torch.Size([60000])\n",
      "torch.Size([10000, 28, 28])\n",
      "torch.Size([10000])\n"
     ]
    }
   ],
   "source": [
    "data_tf = transforms.Compose( [transforms.ToTensor(),transforms.Normalize([0.5], [0.5]), transforms.Resize(32, 32)])\n",
    "train_data = torchvision.datasets.MNIST(\n",
    "    root='./MNIST_data',\n",
    "    train=True,\n",
    "    transform = data_tf,\n",
    "    download=True)\n",
    "train_loader =Data.DataLoader(dataset=train_data,batch_size=batch_size,shuffle=True)\n",
    "\n",
    "test_data = torchvision.datasets.MNIST(root='./MNIST_data',train=False,transform = data_tf,download=True)\n",
    "test_loader =Data.DataLoader(dataset=test_data,batch_size=batch_size,shuffle=True)\n",
    "\n",
    "test_x = Variable(torch.unsqueeze(test_data.test_data,dim=1),volatile=True).type(torch.FloatTensor)[:10000]/255.\n",
    "test_y = test_data.test_labels[:10000]\n",
    "\n",
    "print(train_data.train_data.size())                 \n",
    "print(train_data.train_labels.size())   \n",
    "print(test_data.test_data.size())                 \n",
    "print(test_data.test_labels.size())  "
   ]
  },
  {
   "cell_type": "markdown",
   "metadata": {},
   "source": [
    "定义LeNet5模型，该模型有7层（不包括输入层），分别是：卷积层$\\rightarrow 池化层 \\rightarrow 卷积层 \\rightarrow 池化层 \\rightarrow 卷积层\\rightarrow 全连接层 \\rightarrow $输出层"
   ]
  },
  {
   "cell_type": "code",
   "execution_count": 16,
   "metadata": {},
   "outputs": [
    {
     "name": "stdout",
     "output_type": "stream",
     "text": [
      "LeNet5(\n",
      "  (conv1): Sequential(\n",
      "    (0): Conv2d(1, 6, kernel_size=(5, 5), stride=(1, 1))\n",
      "    (1): ReLU()\n",
      "    (2): MaxPool2d(kernel_size=2, stride=2, padding=0, dilation=1, ceil_mode=False)\n",
      "  )\n",
      "  (conv2): Sequential(\n",
      "    (0): Conv2d(6, 16, kernel_size=(5, 5), stride=(1, 1))\n",
      "    (1): ReLU()\n",
      "    (2): MaxPool2d(kernel_size=2, stride=2, padding=0, dilation=1, ceil_mode=False)\n",
      "  )\n",
      "  (conv3): Sequential(\n",
      "    (0): Conv2d(16, 120, kernel_size=(5, 5), stride=(1, 1))\n",
      "    (1): ReLU()\n",
      "  )\n",
      "  (fc): Sequential(\n",
      "    (0): Linear(in_features=120, out_features=84, bias=True)\n",
      "    (1): Linear(in_features=84, out_features=10, bias=True)\n",
      "    (2): Softmax()\n",
      "  )\n",
      ")\n"
     ]
    }
   ],
   "source": [
    "class LeNet5(nn.Module):\n",
    "    def __init__(self):\n",
    "        super(LeNet5,self).__init__()\n",
    "        self.conv1 = nn.Sequential(\n",
    "            nn.Conv2d(    #(1,28,28)1是channel的维度，28*28为图片的长宽\n",
    "                in_channels=1,#图片的层数，RGB=3,灰度=1\n",
    "                out_channels=6,#filter的个数\n",
    "                kernel_size=5,#filter的长宽\n",
    "                stride=1,#每隔多少个移动\n",
    "                #padding=2,#图片补0.if stride = 1,padding =(kernel_size-1)/2 = (5-1)/2 = 2\n",
    "            ),   \n",
    "            nn.ReLU(),\n",
    "            nn.MaxPool2d(kernel_size=2),#可以看成2*2的filter ,减小一半\n",
    "        )\n",
    "        self.conv2 = nn.Sequential(\n",
    "            nn.Conv2d(6,16,5,1),\n",
    "            nn.ReLU(),\n",
    "            nn.MaxPool2d(2)\n",
    "\n",
    "        )\n",
    "        self.conv3 = nn.Sequential(\n",
    "            nn.Conv2d(16,120,5,1),\n",
    "            nn.ReLU(),\n",
    "        )  \n",
    "        self.fc = nn.Sequential(     \n",
    "            nn.Linear(120,84),\n",
    "            nn.Linear(84,10), # ten output\n",
    "            nn.Softmax(dim=-1)\n",
    "        )\n",
    "    def forward(self, x):\n",
    "        x = self.conv1(x)\n",
    "        x = self.conv2(x)\n",
    "        x = self.conv3(x)\n",
    "        x = x.view(x.size(0),-1) \n",
    "        output = self.fc(x)\n",
    "        return output\n",
    "net = LeNet5()\n",
    "print(net)# net architectuer"
   ]
  },
  {
   "cell_type": "markdown",
   "metadata": {},
   "source": [
    "定义优化器和损失函数"
   ]
  },
  {
   "cell_type": "code",
   "execution_count": 13,
   "metadata": {},
   "outputs": [],
   "source": [
    "opimizer = optim.Adam(net.parameters(),lr=lr)\n",
    "loss_func = nn.CrossEntropyLoss()# loss function"
   ]
  },
  {
   "cell_type": "markdown",
   "metadata": {},
   "source": [
    "训练数据"
   ]
  },
  {
   "cell_type": "code",
   "execution_count": 14,
   "metadata": {},
   "outputs": [
    {
     "name": "stdout",
     "output_type": "stream",
     "text": [
      "Epoch: 0 |train loss:2.2987\n",
      "Epoch: 0 |train loss:0.3548\n",
      "Epoch: 0 |train loss:0.2671\n",
      "Epoch: 0 |train loss:0.1109\n",
      "Epoch: 0 |train loss:0.1383\n",
      "Epoch: 0 |train loss:0.0873\n",
      "Epoch: 0 |train loss:0.0194\n",
      "Epoch: 0 |train loss:0.1907\n",
      "Epoch: 0 |train loss:0.0833\n",
      "Epoch: 0 |train loss:0.0534\n",
      "Epoch: 0 |train loss:0.0601\n",
      "Epoch: 0 |train loss:0.0962\n",
      "Epoch: 1 |train loss:0.3227\n",
      "Epoch: 1 |train loss:0.0465\n",
      "Epoch: 1 |train loss:0.0272\n",
      "Epoch: 1 |train loss:0.2209\n",
      "Epoch: 1 |train loss:0.0215\n",
      "Epoch: 1 |train loss:0.0784\n",
      "Epoch: 1 |train loss:0.0310\n",
      "Epoch: 1 |train loss:0.0829\n",
      "Epoch: 1 |train loss:0.0592\n",
      "Epoch: 1 |train loss:0.0743\n",
      "Epoch: 1 |train loss:0.0853\n",
      "Epoch: 1 |train loss:0.0718\n"
     ]
    }
   ],
   "source": [
    "for epoch in range(epochs):\n",
    "    for step,(x,y) in enumerate(train_loader):\n",
    "        b_x = Variable(x)\n",
    "        b_y = Variable(y)\n",
    "        out = net(b_x)\n",
    "        loss = loss_func(out,b_y)\n",
    "        opimizer.zero_grad() # clear gradients for this training step\n",
    "        loss.backward()# backpropagation, compute gradients\n",
    "        opimizer.step()\n",
    "        if step % 50 == 0:\n",
    "            print('Epoch:',epoch,'|train loss:%.4f'% loss.item())"
   ]
  },
  {
   "cell_type": "markdown",
   "metadata": {},
   "source": [
    "在测试集上测试"
   ]
  },
  {
   "cell_type": "code",
   "execution_count": 15,
   "metadata": {},
   "outputs": [
    {
     "name": "stderr",
     "output_type": "stream",
     "text": [
      "\n",
      "KeyboardInterrupt\n",
      "\n"
     ]
    }
   ],
   "source": [
    "net.eval()\n",
    "for step,(step_x,step_y) in enumerate(test_loader):\n",
    "    test_out = net(test_x)\n",
    "    pred_y = torch.max(test_out,1)[1].data.squeeze()\n",
    "    correct = (pred_y == test_y).sum()\n",
    "    #acc=float(correct)/test_y.size(0)\n",
    "    acc = correct.item()/test_y.size(0)\n",
    "print(\"acc:%.4f\"% acc)#when epochs=100,acc:0.7615"
   ]
  },
  {
   "cell_type": "code",
   "execution_count": null,
   "metadata": {},
   "outputs": [],
   "source": []
  }
 ],
 "metadata": {
  "kernelspec": {
   "display_name": "Python 3",
   "language": "python",
   "name": "python3"
  },
  "language_info": {
   "codemirror_mode": {
    "name": "ipython",
    "version": 3
   },
   "file_extension": ".py",
   "mimetype": "text/x-python",
   "name": "python",
   "nbconvert_exporter": "python",
   "pygments_lexer": "ipython3",
   "version": "3.7.3"
  }
 },
 "nbformat": 4,
 "nbformat_minor": 2
}
